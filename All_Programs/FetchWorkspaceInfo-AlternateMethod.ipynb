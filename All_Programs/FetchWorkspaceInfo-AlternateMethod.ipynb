{
 "cells": [
  {
   "cell_type": "code",
   "execution_count": 0,
   "metadata": {
    "application/vnd.databricks.v1+cell": {
     "cellMetadata": {
      "byteLimit": 2048000,
      "rowLimit": 10000
     },
     "collapsed": true,
     "inputWidgets": {},
     "nuid": "2839e3c8-ed01-46a5-85fe-7c8c4d036609",
     "showTitle": false,
     "tableResultSettingsMap": {},
     "title": ""
    }
   },
   "outputs": [],
   "source": [
    "# Alternate Method: This piece of code is to display current user, catalog, schema and working directory details\n",
    "\n",
    "print(f\"User name       : {spark.sql('SELECT current_user()').collect()[0][0]}\")\n",
    "print(f\"Catalog name    : {spark.sql('SELECT current_catalog()').collect()[0][0]}\")\n",
    "print(f\"Schema name     : {spark.sql('SELECT current_schema()').collect()[0][0]}\")\n",
    "print(f\"Working dir     : {dbutils.notebook.entry_point.getDbutils().notebook().getContext().notebookPath().get()}\")"
   ]
  }
 ],
 "metadata": {
  "application/vnd.databricks.v1+notebook": {
   "computePreferences": null,
   "dashboards": [],
   "environmentMetadata": {
    "base_environment": "",
    "environment_version": "3"
   },
   "inputWidgetPreferences": null,
   "language": "python",
   "notebookMetadata": {
    "pythonIndentUnit": 4
   },
   "notebookName": "FetchWorkspaceInfo-AlternateMethod",
   "widgets": {}
  },
  "language_info": {
   "name": "python"
  }
 },
 "nbformat": 4,
 "nbformat_minor": 0
}
