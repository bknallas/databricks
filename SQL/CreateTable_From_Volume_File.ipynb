{
 "cells": [
  {
   "cell_type": "code",
   "execution_count": 0,
   "metadata": {
    "application/vnd.databricks.v1+cell": {
     "cellMetadata": {
      "byteLimit": 2048000,
      "implicitDf": true,
      "rowLimit": 10000
     },
     "inputWidgets": {},
     "nuid": "ac414ddb-f5ff-4171-a3c8-3ef2b272d95c",
     "showTitle": false,
     "tableResultSettingsMap": {},
     "title": ""
    }
   },
   "outputs": [],
   "source": [
    "%sql\n",
    "drop table if exists my_std_catalog.my_schema_or_db.sales_data;\n",
    "\n",
    "create table my_std_catalog.my_schema_or_db.sales_data as\n",
    "select \n",
    "--ORDERNUMBER,QUANTITYORDERED,PRICEEACH,ORDERLINENUMBER,ORDERDATE,\n",
    "STATUS,PRODUCTCODE\n",
    "from\n",
    "read_files(\n",
    "  -- if you dont specify sample_sales_data_truc_new.csv below and keep it just like\n",
    "  -- /Volumes/my_std_catalog/my_schema_or_db/my_volume/ then all files which contains STATUS, PRODUCTCODE columns\n",
    "  -- will be considered and created.\n",
    "'/Volumes/my_std_catalog/my_schema_or_db/my_volume/sample_sales_data_truc_new.csv',\n",
    "format => 'csv',\n",
    "header => true,\n",
    "inferSchema => true,\n",
    "delimiter => ','\n",
    ");\n",
    "\n",
    "select count(*) from my_std_catalog.my_schema_or_db.sales_data;"
   ]
  }
 ],
 "metadata": {
  "application/vnd.databricks.v1+notebook": {
   "computePreferences": null,
   "dashboards": [],
   "environmentMetadata": {
    "base_environment": "",
    "environment_version": "3"
   },
   "inputWidgetPreferences": null,
   "language": "python",
   "notebookMetadata": {
    "mostRecentlyExecutedCommandWithImplicitDF": {
     "commandId": 7628140941293954,
     "dataframes": [
      "_sqldf"
     ]
    },
    "pythonIndentUnit": 4
   },
   "notebookName": "CreateTable_From_Volume_File",
   "widgets": {}
  },
  "language_info": {
   "name": "python"
  }
 },
 "nbformat": 4,
 "nbformat_minor": 0
}
