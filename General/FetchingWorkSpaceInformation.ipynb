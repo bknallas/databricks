{
 "cells": [
  {
   "cell_type": "markdown",
   "metadata": {
    "application/vnd.databricks.v1+cell": {
     "cellMetadata": {},
     "inputWidgets": {},
     "nuid": "a307d4b8-2dd9-4c82-a19f-06e2b929be8f",
     "showTitle": false,
     "tableResultSettingsMap": {},
     "title": ""
    }
   },
   "source": [
    "The purpose of this notebook is to fetch a workspace info using python code.\n",
    "\n",
    "**databricks instance** -> click workspace and fetch the URL from the browser's URL until .com.. e.g. https://dbc-f7b5315c-d9dd.cloud.databricks.com/editor/notebooks/1905280691907036?o=3925222576551077 in this the databricks instance is https://dbc-f7b5315c-d9dd.cloud.databricks.com\n",
    "\n",
    "**access_token**  -> click your user profile icon->settings->User->Developer->Access token"
   ]
  }
 ],
 "metadata": {
  "application/vnd.databricks.v1+notebook": {
   "computePreferences": null,
   "dashboards": [],
   "environmentMetadata": {
    "base_environment": "",
    "environment_version": "3"
   },
   "inputWidgetPreferences": null,
   "language": "python",
   "notebookMetadata": {
    "pythonIndentUnit": 4
   },
   "notebookName": "FetchingWorkSpaceInformation",
   "widgets": {}
  },
  "language_info": {
   "name": "python"
  }
 },
 "nbformat": 4,
 "nbformat_minor": 0
}
