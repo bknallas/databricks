{
 "cells": [
  {
   "cell_type": "code",
   "execution_count": 0,
   "metadata": {
    "application/vnd.databricks.v1+cell": {
     "cellMetadata": {
      "byteLimit": 2048000,
      "rowLimit": 10000
     },
     "collapsed": true,
     "inputWidgets": {},
     "nuid": "b84c1e7b-6173-4cf0-b621-d260e7d0c8c2",
     "showTitle": false,
     "tableResultSettingsMap": {},
     "title": ""
    }
   },
   "outputs": [],
   "source": [
    "# This piece of code will display all the tables in the current catalog and schema\n",
    "\n",
    "catalog_name = spark.sql(\"SELECT current_catalog()\").collect()[0][0]\n",
    "\n",
    "schemas_df = spark.sql(f\"SHOW SCHEMAS IN {catalog_name}\")\n",
    "display(schemas_df)\n",
    "\n",
    "for schema_row in schemas_df.collect():\n",
    "    schema_name = schema_row['databaseName']\n",
    "    print(f\"Tables in schema: {schema_name}\")\n",
    "    tables_df = spark.sql(f\"SHOW TABLES IN {catalog_name}.{schema_name}\")\n",
    "    display(tables_df)"
   ]
  }
 ],
 "metadata": {
  "application/vnd.databricks.v1+notebook": {
   "computePreferences": null,
   "dashboards": [],
   "environmentMetadata": {
    "base_environment": "",
    "environment_version": "3"
   },
   "inputWidgetPreferences": null,
   "language": "python",
   "notebookMetadata": {
    "pythonIndentUnit": 4
   },
   "notebookName": "FetchWorkspaceInfo-Current_Catalog",
   "widgets": {}
  },
  "language_info": {
   "name": "python"
  }
 },
 "nbformat": 4,
 "nbformat_minor": 0
}
