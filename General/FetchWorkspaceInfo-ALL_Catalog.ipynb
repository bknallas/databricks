{
 "cells": [
  {
   "cell_type": "code",
   "execution_count": 0,
   "metadata": {
    "application/vnd.databricks.v1+cell": {
     "cellMetadata": {
      "byteLimit": 2048000,
      "rowLimit": 10000
     },
     "collapsed": true,
     "inputWidgets": {},
     "nuid": "de64d38b-a943-42a5-ae50-d381ad5d3487",
     "showTitle": false,
     "tableResultSettingsMap": {},
     "title": ""
    }
   },
   "outputs": [],
   "source": [
    "# This will display the list of \"ALL\" available catalogs, schemas, and tables\n",
    "\n",
    "catalogs_df = spark.sql(\"SHOW CATALOGS\")\n",
    "display(catalogs_df)\n",
    "\n",
    "for catalog_row in catalogs_df.collect():\n",
    "    catalog_name = catalog_row['catalog']\n",
    "    print(f\"Catalog: {catalog_name}\")\n",
    "    schemas_df = spark.sql(f\"SHOW SCHEMAS IN {catalog_name}\")\n",
    "    display(schemas_df)\n",
    "    for schema_row in schemas_df.collect():\n",
    "        schema_name = schema_row['databaseName']\n",
    "        print(f\"  Schema: {schema_name}\")\n",
    "        tables_df = spark.sql(f\"SHOW TABLES IN {catalog_name}.{schema_name}\")\n",
    "        display(tables_df)"
   ]
  }
 ],
 "metadata": {
  "application/vnd.databricks.v1+notebook": {
   "computePreferences": null,
   "dashboards": [],
   "environmentMetadata": {
    "base_environment": "",
    "environment_version": "3"
   },
   "inputWidgetPreferences": null,
   "language": "python",
   "notebookMetadata": {
    "pythonIndentUnit": 4
   },
   "notebookName": "FetchWorkspaceInfo-ALL_Catalog",
   "widgets": {}
  },
  "language_info": {
   "name": "python"
  }
 },
 "nbformat": 4,
 "nbformat_minor": 0
}
